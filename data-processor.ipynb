{
 "cells": [
  {
   "cell_type": "code",
   "execution_count": 179,
   "metadata": {},
   "outputs": [],
   "source": [
    "import requests\n",
    "import csv as csv\n",
    "import pandas as pd\n",
    "import os \n",
    "import numpy as np\n",
    "import psycopg2"
   ]
  },
  {
   "cell_type": "code",
   "execution_count": 126,
   "metadata": {},
   "outputs": [],
   "source": [
    "# set the current conference to work with, e.g. HICSS-56, HICSS-55, HICSS-54\n",
    "CONFERENCE = 'HICSS-55'"
   ]
  },
  {
   "cell_type": "markdown",
   "metadata": {},
   "source": [
    "### Minitrack Proposal Downloads"
   ]
  },
  {
   "cell_type": "code",
   "execution_count": 2,
   "metadata": {},
   "outputs": [],
   "source": [
    "import glob\n",
    "import subprocess\n",
    "\n",
    "# reference: https://stackoverflow.com/questions/60632421/is-there-any-package-for-converting-doc-file-to-docx-format-using-python-program\n",
    "def convertDoc2Docx(dirname: str, filename: str):\n",
    "\t\"\"\"\n",
    "\tUtility functino to take in a .doc file and convert it \n",
    "\tto .docx using libreoffice (soffice). This probably won't\n",
    "\twork in a Colab environment. \n",
    "\tThe filepath to soffice would need to be adjusted per OS.\n",
    "\n",
    "\tArgs:\n",
    "\t\tdirname: str, directory where file is located\n",
    "\t\tfilename: str, filename of the .doc file\n",
    "\t\"\"\"\n",
    "\tif filename.endswith('.doc'):\n",
    "\t\tcurr_dir = os.getcwd()\n",
    "\t\tos.chdir(dirname)\n",
    "\t\tsubprocess.call(['/Applications/LibreOffice.app/Contents/MacOS/soffice', '--headless', '--convert-to', 'docx', filename])\n",
    "\t\tos.chdir(curr_dir)"
   ]
  },
  {
   "cell_type": "markdown",
   "metadata": {},
   "source": [
    "The following block of code iterates over csv files for each track, and then downloads the minitrack proposal for each accepted minitrack. The ES track doesn't have any proposals and is thus excluded. Since ES only has 4 minitracks, those can be manually inserted into the DB."
   ]
  },
  {
   "cell_type": "code",
   "execution_count": 151,
   "metadata": {},
   "outputs": [],
   "source": [
    "def formatMinitrackName(name: str):\n",
    "\t\"\"\"\n",
    "\tUsed for formatting of filenames to avoid capitalization, special character \n",
    "\tand spacing issues\n",
    "\t\"\"\"\n",
    "\treturn name.replace('/', '^').replace(' ', '').lower()"
   ]
  },
  {
   "cell_type": "code",
   "execution_count": 154,
   "metadata": {},
   "outputs": [
    {
     "name": "stdout",
     "output_type": "stream",
     "text": [
      "/Users/holmsmidt/hicss/workspace/track-recommender/minitrack-lists\n"
     ]
    }
   ],
   "source": [
    "#tracks = ['CL', 'DA', 'DSM', 'DG', 'ES', 'HC', 'IN', 'KS', 'LI', 'OS', 'ST']\n",
    "tracks = ['CL', 'DA', 'DSM', 'DG', 'HC', 'IN', 'KS', 'LI', 'OS', 'ST']\n",
    "# tracks = ['ST']\n",
    "os.chdir('/Users/holmsmidt/hicss/workspace/track-recommender/minitrack-lists')\n",
    "print(os.getcwd())\n",
    "for track in tracks:\n",
    "\tminitracks = pd.read_csv(f\"./{CONFERENCE}/proposals/{CONFERENCE} Minitrack Proposals - {track}.csv\")\n",
    "\t# reference: https://appdividend.com/2021/07/03/how-to-create-directory-if-not-exist-in-python/\n",
    "\tpath = f\"./{CONFERENCE}/files/{minitracks['Track'][0]}\"\n",
    "\tisExist = os.path.exists(path)\n",
    "\tif not isExist:\n",
    "\t\tos.makedirs(path)\n",
    "\tfor index, row in minitracks.iterrows():\n",
    "\t\tif row['Decision (A/AM/R)'] == 'A':\n",
    "\t\t\turl = row['Proposal']\n",
    "\t\t\t# reference: https://www.tutorialspoint.com/downloading-files-from-web-using-python\n",
    "\t\t\tr = requests.get(url, stream=True)\n",
    "\t\t\tsplit = row['Proposal'].split('.')\n",
    "\t\t\text = split[len(split)-1]\n",
    "\t\t\t# reference: https://stackoverflow.com/questions/37913921/how-to-download-file-from-web-using-request-module\n",
    "\t\t\t# quick hack to deal with '/' characters in minitrack names by replacing with an unlikely character '^'\n",
    "\t\t\tfilename = f\"{formatMinitrackName(row['Proposed Minitrack'])}.{ext}\"\n",
    "\t\t\toutfile = open(f\"{path}/{filename}\", 'wb')\n",
    "\t\t\toutfile.write(r.content)\n",
    "\t\t\toutfile.close()\n",
    "\t\t\tif ext == 'doc':\n",
    "\t\t\t\t# create .docx from .doc\n",
    "\t\t\t\tconvertDoc2Docx(path, filename)\n",
    "\t\t\t\t# delete .doc\n",
    "\t\t\t\tos.remove(f\"{path}/{filename}\")\n",
    "\t\t\t"
   ]
  },
  {
   "cell_type": "markdown",
   "metadata": {},
   "source": [
    "### Extract Minitrack Descriptions from Files"
   ]
  },
  {
   "cell_type": "code",
   "execution_count": 130,
   "metadata": {},
   "outputs": [],
   "source": [
    "tracksdict = {\n",
    "\t'CL': 'Collaboration Systems and Technologies',\n",
    "\t'DA': 'Decision Analytics and Service Science', \n",
    "\t'DSM': 'Digital and Social Media',\n",
    "\t'DG': 'Digital Government',\n",
    "\t'ES': 'ES',\n",
    "\t'HC': 'Information Technology in Healthcare',\n",
    "\t'IN': 'Internet and the Digital Economy',\n",
    "\t'KS': 'Knowledge Innovation and Entrepreneurial Systems',\n",
    "\t'LI': 'Location Intelligence',\n",
    "\t'OS': 'Organizational Systems and Technology',\n",
    "\t'ST': 'Software Technology',\n",
    "}"
   ]
  },
  {
   "cell_type": "markdown",
   "metadata": {},
   "source": [
    "#### PDF extraction utility"
   ]
  },
  {
   "cell_type": "code",
   "execution_count": null,
   "metadata": {},
   "outputs": [],
   "source": [
    "!pip3 install pdfplumber"
   ]
  },
  {
   "cell_type": "code",
   "execution_count": null,
   "metadata": {},
   "outputs": [],
   "source": [
    "import pdfplumber\n",
    "\n",
    "# Test\n",
    "filepath = f\"./files/{track}/{minitrack_pdf}.pdf\"\n",
    "with pdfplumber.open(filepath) as pdf:\n",
    "\tprint(pdf.pages)\n",
    "\tfirst_page = pdf.pages[0]\n",
    "\tprint(first_page.extract_text())"
   ]
  },
  {
   "cell_type": "code",
   "execution_count": 5,
   "metadata": {},
   "outputs": [],
   "source": [
    "def getPdfText(filename: str):\n",
    "\t\"\"\"\n",
    "\tUtility function to extract all text from \n",
    "\ta pdf. This copies ALL text, not just descriptions (OK for now).\n",
    "\n",
    "\tArgs:\n",
    "\t\tfilename: str, full filename with path from current directory\n",
    "\tReturns:\n",
    "\t\tcontent: str, text content of the pdf \n",
    "\t\"\"\"\n",
    "\tif filename.endswith('.pdf'):\n",
    "\t\twith pdfplumber.open(filename) as pdf:\n",
    "\t\t\tfullText = []\n",
    "\t\t\tfor page in pdf.pages:\n",
    "\t\t\t\tfullText.append(page.extract_text())\n",
    "\t\t\tcontent = '\\n'.join(fullText)\n",
    "\t\t\treturn content"
   ]
  },
  {
   "cell_type": "markdown",
   "metadata": {},
   "source": [
    "#### DOC extraction"
   ]
  },
  {
   "cell_type": "code",
   "execution_count": null,
   "metadata": {},
   "outputs": [],
   "source": [
    "!pip3 install python-docx"
   ]
  },
  {
   "cell_type": "code",
   "execution_count": 6,
   "metadata": {},
   "outputs": [],
   "source": [
    "import docx"
   ]
  },
  {
   "cell_type": "code",
   "execution_count": 7,
   "metadata": {},
   "outputs": [],
   "source": [
    "def getDocxText(filename: str):\n",
    "\t\"\"\"\n",
    "\tUtility function to extract all text from \n",
    "\ta .docx file. This copies ALL text, not just descriptions (OK for now).\n",
    "\n",
    "\tArgs:\n",
    "\t\tfilename: str, full filename with path from current directory\n",
    "\tReturns:\n",
    "\t\tcontent: str, text content of the pdf \n",
    "\t\"\"\"\n",
    "\tdoc = docx.Document(filename)\n",
    "\tfullText = []\n",
    "\tfor para in doc.paragraphs:\n",
    "\t\tfullText.append(para.text)\n",
    "\tcontent = '\\n'.join(fullText)\n",
    "\treturn content\n"
   ]
  },
  {
   "cell_type": "markdown",
   "metadata": {},
   "source": [
    "#### Extract content per minitrack"
   ]
  },
  {
   "cell_type": "code",
   "execution_count": 181,
   "metadata": {},
   "outputs": [],
   "source": [
    "from configparser import ConfigParser\n",
    "\n",
    "cfg = ConfigParser()\n",
    "cfg.read('config.ini')\n",
    "host=cfg['postgres']['host']\n",
    "dbname=cfg['postgres']['dbname']\n",
    "port=cfg['postgres']['port']\n",
    "user=cfg['postgres']['user']\n",
    "password=cfg['postgres']['password']"
   ]
  },
  {
   "cell_type": "code",
   "execution_count": null,
   "metadata": {},
   "outputs": [],
   "source": [
    "# using psycopg2 to connect to postgres\n",
    "# requires postgres driver to be installed: brew install postgres\n",
    "# requires sqlalchemy to be installed: pip3 install sqlalchemy\n",
    "# requires importlib to be installed\n",
    "!pip3 install psycopg2"
   ]
  },
  {
   "cell_type": "code",
   "execution_count": null,
   "metadata": {},
   "outputs": [],
   "source": [
    "with psycopg2.connect(\"host='{}' port={} dbname='{}' user={} password={}\".format(host, port, dbname, user, password)) as conn:\n",
    "  sql = f\"\"\"\n",
    "    SELECT c.shortname as conference, t.code as track, m.id, m.name, m.description\n",
    "    FROM minitracks m\n",
    "    JOIN tracks t on t.id = m.track_id\n",
    "    JOIN conferences c on c.id = t.conference_id\n",
    "    where c.shortname='{CONFERENCE}'\n",
    "  \"\"\"\n",
    "  db_minitracks = pd.read_sql_query(sql, conn)\n",
    "db_minitracks.describe()"
   ]
  },
  {
   "cell_type": "code",
   "execution_count": 156,
   "metadata": {},
   "outputs": [
    {
     "name": "stdout",
     "output_type": "stream",
     "text": [
      "(182, 5)\n",
      "       conference track                                    id  \\\n",
      "count         182   182                                   182   \n",
      "unique          1    10                                   182   \n",
      "top      HICSS-55    DA  a8a72967-8e7e-49ef-a254-62f83f4fe368   \n",
      "freq          182    34                                     1   \n",
      "\n",
      "                             name description  \n",
      "count                         182           0  \n",
      "unique                        182           0  \n",
      "top     Digital Government and AI         NaN  \n",
      "freq                            1         NaN  \n"
     ]
    }
   ],
   "source": [
    "mtracks = db_minitracks[(db_minitracks['track'] != 'ES') & (db_minitracks['track'] != 'CSEET')]\n",
    "print(mtracks.shape)\n",
    "print(mtracks.describe())"
   ]
  },
  {
   "cell_type": "code",
   "execution_count": 142,
   "metadata": {},
   "outputs": [
    {
     "name": "stdout",
     "output_type": "stream",
     "text": [
      "/Users/holmsmidt/hicss/workspace/track-recommender/minitrack-lists\n"
     ]
    }
   ],
   "source": [
    "print(os.getcwd())\n",
    "def getFile(name: str, trackcode: str):\n",
    "\t# try searching by first characters first due to some strange issues\n",
    "\tdocs = [doc for doc in glob.iglob(f\"./{CONFERENCE}/files/{tracksdict[trackcode]}/{name[0:5]}*\")]\n",
    "\tif len(docs) == 1: return docs[0]\n",
    "\tif len(docs) > 1:\n",
    "\t\t# full name search\n",
    "\t\tprint('full name')\n",
    "\t\tdocs = [doc for doc in glob.iglob(f\"./{CONFERENCE}/files/{tracksdict[trackcode]}/{name}*\")]\n",
    "\t\tif len(docs) == 1: return docs[0]\n",
    "\treturn None"
   ]
  },
  {
   "cell_type": "code",
   "execution_count": 159,
   "metadata": {},
   "outputs": [
    {
     "name": "stdout",
     "output_type": "stream",
     "text": [
      "no file for KS  -  Topics in Knowledge, Innovation, and Entrepreneurship Systems\n",
      "no of minitracks without file 1\n"
     ]
    }
   ],
   "source": [
    "nofilecounter = 0\n",
    "for index, mt in mtracks.iterrows():\n",
    "\t# quick hack to deal with '/' characters in minitrack names by replacing with an unlikely character '^'\n",
    "\t#print(mt['name'], '  -  ', mt['track'])\n",
    "\tfile = getFile(formatMinitrackName(mt['name']), mt['track'])\n",
    "\tdescription = None\n",
    "\tif file == None:\n",
    "\t\tprint('no file for', mt['track'], ' - ', mt['name'])\n",
    "\t\tnofilecounter += 1\n",
    "\telif file.endswith('.docx'): description = getDocxText(file)\n",
    "\telif file.endswith('.pdf'): description = getPdfText(file)\n",
    "\tif description != None: mtracks.at[index,'description'] = description\n",
    "print('no of minitracks without file', nofilecounter)"
   ]
  },
  {
   "cell_type": "code",
   "execution_count": 161,
   "metadata": {},
   "outputs": [],
   "source": [
    "# store temp results in csv\n",
    "mtracks.to_csv(f'./{CONFERENCE}/accepted_minitracks_with_description.csv', sep=',')"
   ]
  },
  {
   "cell_type": "code",
   "execution_count": 163,
   "metadata": {},
   "outputs": [
    {
     "data": {
      "text/html": [
       "<div>\n",
       "<style scoped>\n",
       "    .dataframe tbody tr th:only-of-type {\n",
       "        vertical-align: middle;\n",
       "    }\n",
       "\n",
       "    .dataframe tbody tr th {\n",
       "        vertical-align: top;\n",
       "    }\n",
       "\n",
       "    .dataframe thead th {\n",
       "        text-align: right;\n",
       "    }\n",
       "</style>\n",
       "<table border=\"1\" class=\"dataframe\">\n",
       "  <thead>\n",
       "    <tr style=\"text-align: right;\">\n",
       "      <th></th>\n",
       "      <th>conference</th>\n",
       "      <th>track</th>\n",
       "      <th>id</th>\n",
       "      <th>name</th>\n",
       "      <th>description</th>\n",
       "    </tr>\n",
       "  </thead>\n",
       "  <tbody>\n",
       "    <tr>\n",
       "      <th>38</th>\n",
       "      <td>HICSS-55</td>\n",
       "      <td>DA</td>\n",
       "      <td>3f2e530f-2943-4d51-893f-c38476a4154f</td>\n",
       "      <td>Machine Learning and Predictive Analytics in A...</td>\n",
       "      <td>HICSS’22 minitrack:\\nMachine learning and pred...</td>\n",
       "    </tr>\n",
       "    <tr>\n",
       "      <th>39</th>\n",
       "      <td>HICSS-55</td>\n",
       "      <td>DA</td>\n",
       "      <td>be080d6a-85f9-45cb-9537-f9a330238639</td>\n",
       "      <td>Accountability, Evaluation, and Obscurity of A...</td>\n",
       "      <td>HICSS 54: TRACK: Decision Analytics and Servic...</td>\n",
       "    </tr>\n",
       "    <tr>\n",
       "      <th>40</th>\n",
       "      <td>HICSS-55</td>\n",
       "      <td>DA</td>\n",
       "      <td>91dd6dfd-c78f-4c36-ac67-291a11b0b348</td>\n",
       "      <td>Algorithm-based Advisory in the Service Sector</td>\n",
       "      <td>Title of a minitrack: \\nAlgorithm-based Adviso...</td>\n",
       "    </tr>\n",
       "    <tr>\n",
       "      <th>41</th>\n",
       "      <td>HICSS-55</td>\n",
       "      <td>DA</td>\n",
       "      <td>391db4d7-ba7f-432d-a1f4-53805a190e41</td>\n",
       "      <td>Big Data and Analytics: Pathways to Maturity</td>\n",
       "      <td>Minitrack Proposal\\nHICSS-55 Decision Analytic...</td>\n",
       "    </tr>\n",
       "    <tr>\n",
       "      <th>42</th>\n",
       "      <td>HICSS-55</td>\n",
       "      <td>DA</td>\n",
       "      <td>002583a4-cbd3-4632-905d-d94f0a4a3f3d</td>\n",
       "      <td>Delivering IoT Services using Blockchain</td>\n",
       "      <td>Mini Track Title: Delivering IoT Services usin...</td>\n",
       "    </tr>\n",
       "  </tbody>\n",
       "</table>\n",
       "</div>"
      ],
      "text/plain": [
       "   conference track                                    id  \\\n",
       "38   HICSS-55    DA  3f2e530f-2943-4d51-893f-c38476a4154f   \n",
       "39   HICSS-55    DA  be080d6a-85f9-45cb-9537-f9a330238639   \n",
       "40   HICSS-55    DA  91dd6dfd-c78f-4c36-ac67-291a11b0b348   \n",
       "41   HICSS-55    DA  391db4d7-ba7f-432d-a1f4-53805a190e41   \n",
       "42   HICSS-55    DA  002583a4-cbd3-4632-905d-d94f0a4a3f3d   \n",
       "\n",
       "                                                 name  \\\n",
       "38  Machine Learning and Predictive Analytics in A...   \n",
       "39  Accountability, Evaluation, and Obscurity of A...   \n",
       "40     Algorithm-based Advisory in the Service Sector   \n",
       "41       Big Data and Analytics: Pathways to Maturity   \n",
       "42           Delivering IoT Services using Blockchain   \n",
       "\n",
       "                                          description  \n",
       "38  HICSS’22 minitrack:\\nMachine learning and pred...  \n",
       "39  HICSS 54: TRACK: Decision Analytics and Servic...  \n",
       "40  Title of a minitrack: \\nAlgorithm-based Adviso...  \n",
       "41  Minitrack Proposal\\nHICSS-55 Decision Analytic...  \n",
       "42  Mini Track Title: Delivering IoT Services usin...  "
      ]
     },
     "execution_count": 163,
     "metadata": {},
     "output_type": "execute_result"
    }
   ],
   "source": [
    "mtracks[mtracks.track == 'DA'].head()"
   ]
  },
  {
   "cell_type": "markdown",
   "metadata": {},
   "source": [
    "### Update database with minitrack descriptions for HICSS-56"
   ]
  },
  {
   "cell_type": "code",
   "execution_count": 173,
   "metadata": {},
   "outputs": [],
   "source": [
    "with psycopg2.connect(\"host='{}' port={} dbname='{}' user={} password={}\".format(host, port, dbname, user, password)) as conn:\n",
    "\tcur = conn.cursor()\n",
    "\tfor idx, mt in mtracks.iterrows():\n",
    "\t\tif pd.notna(mt.description):\n",
    "\t\t\ttry:\n",
    "\t\t\t\tsql = \"UPDATE minitracks SET description=%s WHERE id=%s\"\n",
    "\t\t\t\tcur.execute(sql, (mt.description, mt.id))\n",
    "\t\t\texcept:\n",
    "\t\t\t\tprint('failed to access description', mt.description)\n",
    "\tconn.commit()"
   ]
  }
 ],
 "metadata": {
  "interpreter": {
   "hash": "aee8b7b246df8f9039afb4144a1f6fd8d2ca17a180786b69acc140d282b71a49"
  },
  "kernelspec": {
   "display_name": "Python 3.9.6 64-bit",
   "language": "python",
   "name": "python3"
  },
  "language_info": {
   "codemirror_mode": {
    "name": "ipython",
    "version": 3
   },
   "file_extension": ".py",
   "mimetype": "text/x-python",
   "name": "python",
   "nbconvert_exporter": "python",
   "pygments_lexer": "ipython3",
   "version": "3.9.6"
  },
  "orig_nbformat": 4
 },
 "nbformat": 4,
 "nbformat_minor": 2
}
